{
  "cells": [
    {
      "cell_type": "markdown",
      "metadata": {
        "id": "NRlYZeb3kCjR"
      },
      "source": [
        "\n",
        "\n",
        "---\n",
        "- MAI XUÂN BÁCH\n",
        "- 11200489\n",
        "- DSEB 62\n",
        "\n",
        "\n",
        "---\n",
        "\n",
        "\n",
        "\n",
        "---\n",
        "\n",
        "\n"
      ]
    },
    {
      "cell_type": "markdown",
      "source": [
        "**ĐỀ BÀI**"
      ],
      "metadata": {
        "id": "iP9kep0L8WTq"
      }
    },
    {
      "cell_type": "markdown",
      "metadata": {
        "id": "JKEWH0JukJoW"
      },
      "source": [
        "Câu 1:\n",
        "Tạo ra 1 bộ dataset từ 10 điểm dữ liệu sinh ra từ hàm y = x^2 + noise. Dùng sklearn fit hàm đa thức bậc 9 với dữ liệu trên. Sau đó thêm 100 dữ liệu nữa xem hàm đa thức bậc 9 như nào?\n",
        "Hãy báo cáo MSE và vẽ đồ thị trong hai trường hợp (10 điểm dữ liệu ban đầu và 100 điểm dữ liệu sau)\n",
        "Hiện tượng gì đang xảy ra?\n",
        "\n",
        "Câu 2: Code from scratch\n",
        "Implement hàm tính convolution\n",
        "Input: X, W, stride, padding\n",
        "Output: Y\n",
        "Kiểm tra lại với hàm tính convolution được implement trong thư viện Pytorch\n",
        "\n",
        "Câu 3:\n",
        "Cho dataset CIFAR-10\n",
        "Implement 1 model tương tự VGG16 (có thể nông hơn) với dữ liệu trên sử dụng Pytorch\n",
        "Chỉnh learning rate, vẽ đồ thị loss tương ứng.\n",
        "Chia tập train/test tỉ lệ 80/20, tính các chỉ số accuracy, recall, f1-score trên tập test.\n",
        "\n",
        "Câu 4\n",
        "Tại sao khi build model, càng những layer phía sau, width và height giảm nhưng depth lại tăng\n",
        "\n",
        "Câu 5 (Optional)\n",
        "1 bài viết hay bao gồm tool sử dụng để vísualize CNN model\n"
      ]
    },
    {
      "cell_type": "code",
      "execution_count": 1,
      "metadata": {
        "id": "IMGlNW7Zki-g"
      },
      "outputs": [],
      "source": [
        "import numpy as np\n",
        "import matplotlib.pyplot as plt\n",
        "import pandas as pd\n",
        "import torch"
      ]
    },
    {
      "cell_type": "code",
      "execution_count": 2,
      "metadata": {
        "id": "znLtvqK9lDxU"
      },
      "outputs": [],
      "source": [
        "import torch.nn.functional as F"
      ]
    },
    {
      "cell_type": "code",
      "execution_count": 3,
      "metadata": {
        "id": "YKdOGyDilEEy"
      },
      "outputs": [],
      "source": [
        "from sklearn.metrics import mean_squared_error, mean_absolute_error, mean_absolute_percentage_error\n",
        "from sklearn.metrics import  classification_report, ConfusionMatrixDisplay, precision_score, recall_score, accuracy_score, f1_score, confusion_matrix"
      ]
    },
    {
      "cell_type": "code",
      "execution_count": 4,
      "metadata": {
        "id": "3LJJDtzelHI1"
      },
      "outputs": [],
      "source": [
        "from sklearn.preprocessing import PolynomialFeatures\n",
        "from sklearn.linear_model import LinearRegression"
      ]
    },
    {
      "cell_type": "code",
      "execution_count": 5,
      "metadata": {
        "id": "edpENUI5EZJQ"
      },
      "outputs": [],
      "source": [
        "import torch.nn as nn\n",
        "import torch.optim as optim\n",
        "import torchvision\n",
        "import torchvision.transforms as transforms\n",
        "from torch.utils.data import Subset, DataLoader\n",
        "from sklearn.model_selection import train_test_split"
      ]
    },
    {
      "cell_type": "markdown",
      "metadata": {
        "id": "xT4uroPzkcwA"
      },
      "source": [
        "# 1.\n",
        "Tạo ra 1 bộ dataset từ 10 điểm dữ liệu sinh ra từ hàm y = x^2 + noise. Dùng sklearn fit hàm đa thức bậc 9 với dữ liệu trên. Sau đó thêm 100 dữ liệu nữa xem hàm đa thức bậc 9 như nào? Hãy báo cáo MSE và vẽ đồ thị trong hai trường hợp (10 điểm dữ liệu ban đầu và 100 điểm dữ liệu sau) Hiện tượng gì đang xảy ra?"
      ]
    },
    {
      "cell_type": "markdown",
      "metadata": {
        "id": "vfWYN86mksBR"
      },
      "source": [
        "## 10 data points"
      ]
    },
    {
      "cell_type": "code",
      "execution_count": 6,
      "metadata": {
        "colab": {
          "base_uri": "https://localhost:8080/",
          "height": 448
        },
        "id": "Dd-xtXC5j6fj",
        "outputId": "c3852819-8f00-4f45-c43c-1e942966651f"
      },
      "outputs": [
        {
          "output_type": "execute_result",
          "data": {
            "text/plain": [
              "<matplotlib.collections.PathCollection at 0x7b6c30bf98a0>"
            ]
          },
          "metadata": {},
          "execution_count": 6
        },
        {
          "output_type": "display_data",
          "data": {
            "text/plain": [
              "<Figure size 640x480 with 1 Axes>"
            ],
            "image/png": "[encoded data removed]"
          },
          "metadata": {}
        }
      ],
      "source": [
        "x = np.random.uniform(-5,5,10)\n",
        "y = [each ** 2 + np.random.normal(0, 0.3) for each in x]\n",
        "\n",
        "plt.scatter(x, y)"
      ]
    },
    {
      "cell_type": "code",
      "execution_count": 7,
      "metadata": {
        "id": "rL7CnOxdlJOj"
      },
      "outputs": [],
      "source": [
        "def polynomial_regression(x, y, order):\n",
        "  poly = PolynomialFeatures(degree=order)\n",
        "  poly_features = poly.fit_transform(x.reshape(-1, 1))\n",
        "\n",
        "  poly_reg_model = LinearRegression()\n",
        "  poly_reg_model.fit(poly_features, y)\n",
        "  y_predicted = poly_reg_model.predict(poly_features)\n",
        "\n",
        "  mse = mean_squared_error(y, y_predicted)\n",
        "\n",
        "  plt.figure(figsize=(10, 6))\n",
        "  plt.title(\"Degree: {}\".format(order), size=16)\n",
        "  plt.scatter(x, y, c = \"blue\")\n",
        "  plt.scatter(x, y_predicted, c=\"red\")\n",
        "  plt.show()\n",
        "\n",
        "  return mse"
      ]
    },
    {
      "cell_type": "code",
      "execution_count": 8,
      "metadata": {
        "colab": {
          "base_uri": "https://localhost:8080/",
          "height": 565
        },
        "id": "taQm16oTlZLz",
        "outputId": "b00f99a1-9316-4f94-f336-a99f7d11c4d6"
      },
      "outputs": [
        {
          "output_type": "display_data",
          "data": {
            "text/plain": [
              "<Figure size 1000x600 with 1 Axes>"
            ],
            "image/png": "[encoded data removed]"
          },
          "metadata": {}
        },
        {
          "output_type": "stream",
          "name": "stdout",
          "text": [
            "MSE:  3.0239637481618544e-22\n"
          ]
        }
      ],
      "source": [
        "print(\"MSE: \", polynomial_regression(x, y, 9))"
      ]
    },
    {
      "cell_type": "markdown",
      "metadata": {
        "id": "XjYSEsCNlnxk"
      },
      "source": [
        "**With polynomial function with degree = 9, it fits perfect for this sample dataset.**"
      ]
    },
    {
      "cell_type": "markdown",
      "metadata": {
        "id": "pTLSiZOHluVo"
      },
      "source": [
        "## 100 data points"
      ]
    },
    {
      "cell_type": "code",
      "execution_count": 9,
      "metadata": {
        "colab": {
          "base_uri": "https://localhost:8080/",
          "height": 448
        },
        "id": "hY4lHZNslb8u",
        "outputId": "188efc26-6664-4c94-bd9d-506246f12c1c"
      },
      "outputs": [
        {
          "output_type": "execute_result",
          "data": {
            "text/plain": [
              "<matplotlib.collections.PathCollection at 0x7b6c2e9aebf0>"
            ]
          },
          "metadata": {},
          "execution_count": 9
        },
        {
          "output_type": "display_data",
          "data": {
            "text/plain": [
              "<Figure size 640x480 with 1 Axes>"
            ],
            "image/png": "[encoded data removed]"
          },
          "metadata": {}
        }
      ],
      "source": [
        "x = np.random.uniform(-5,5,100)\n",
        "y = [each ** 2 + np.random.normal(0, 0.3) for each in x]\n",
        "\n",
        "plt.scatter(x, y)"
      ]
    },
    {
      "cell_type": "code",
      "execution_count": 10,
      "metadata": {
        "colab": {
          "base_uri": "https://localhost:8080/",
          "height": 565
        },
        "id": "QBZhAbwxl0X5",
        "outputId": "fbb23518-1304-4900-c734-383804eb3a89"
      },
      "outputs": [
        {
          "output_type": "display_data",
          "data": {
            "text/plain": [
              "<Figure size 1000x600 with 1 Axes>"
            ],
            "image/png": "[encoded data removed]"
          },
          "metadata": {}
        },
        {
          "output_type": "stream",
          "name": "stdout",
          "text": [
            "MSE:  0.06835659364132099\n"
          ]
        }
      ],
      "source": [
        "print(\"MSE: \", polynomial_regression(x, y, 9))"
      ]
    },
    {
      "cell_type": "markdown",
      "source": [
        "**COMMENT: It is overfitting when the number of data points is small**"
      ],
      "metadata": {
        "id": "DW4q6qZb8d-t"
      }
    },
    {
      "cell_type": "markdown",
      "metadata": {
        "id": "cGagskwEmDcl"
      },
      "source": [
        "# 2.\n",
        "Code from scratch Implement hàm tính convolution Input: X, W, stride, padding Output: Y Kiểm tra lại với hàm tính convolution được implement trong thư viện Pytorch"
      ]
    },
    {
      "cell_type": "code",
      "execution_count": 11,
      "metadata": {
        "id": "uNRyAvsLmFLJ"
      },
      "outputs": [],
      "source": [
        "# Hàm tính convolution từ đầu\n",
        "def custom_conv2d(X, W, stride=1, padding=0):\n",
        "    batch_size, in_channels, in_height, in_width = X.shape\n",
        "    out_channels, _, kernel_height, kernel_width = W.shape\n",
        "\n",
        "    # Tính kích thước của đầu ra\n",
        "    out_height = (in_height - kernel_height + 2 * padding) // stride + 1\n",
        "    out_width = (in_width - kernel_width + 2 * padding) // stride + 1\n",
        "\n",
        "    Y = torch.zeros((batch_size, out_channels, out_height, out_width))\n",
        "\n",
        "    # Thực hiện convolution\n",
        "    for b in range(batch_size):\n",
        "        for c in range(out_channels):\n",
        "            for i in range(0, in_height - kernel_height + 1, stride):\n",
        "                for j in range(0, in_width - kernel_width + 1, stride):\n",
        "                    Y[b, c, i // stride, j // stride] = torch.sum(X[b, :, i:i+kernel_height, j:j+kernel_width] * W[c])\n",
        "\n",
        "    return Y"
      ]
    },
    {
      "cell_type": "code",
      "execution_count": 12,
      "metadata": {
        "colab": {
          "base_uri": "https://localhost:8080/"
        },
        "id": "CsXnsV5NoWr-",
        "outputId": "65f40c41-13bf-464f-f912-a0820cfb1b0e"
      },
      "outputs": [
        {
          "output_type": "stream",
          "name": "stdout",
          "text": [
            "X: tensor([[[[ 0.3297, -0.3227,  1.4609, -1.2357, -0.4495],\n",
            "          [ 0.7927, -0.1708,  0.2471,  0.8998,  0.0939],\n",
            "          [-0.5265,  0.6165,  0.4546,  0.2829,  0.5379],\n",
            "          [-1.0743,  0.3334,  0.9530,  0.5181,  1.0760],\n",
            "          [ 0.2872,  0.7052,  3.0493,  0.2967,  0.1454]]]])\n",
            "W: tensor([[[[ 0.7283, -0.4453,  1.1858],\n",
            "          [ 1.0800, -0.6000,  0.4731],\n",
            "          [-1.5610,  0.7010,  0.2807]]]])\n",
            "Custom Convolution Result:\n",
            "tensor([[[[ 4.5732, -2.8222,  0.4922],\n",
            "          [ 2.4010,  1.6526, -0.3562],\n",
            "          [-0.1266,  1.7354, -2.4409]]]])\n",
            "\n",
            "PyTorch Convolution Result:\n",
            "tensor([[[[ 4.5732, -2.8222,  0.4922],\n",
            "          [ 2.4010,  1.6526, -0.3562],\n",
            "          [-0.1266,  1.7354, -2.4409]]]])\n",
            "\n",
            "Check similarity:\n",
            "True\n"
          ]
        }
      ],
      "source": [
        "# Kiểm tra với hàm tính convolution của PyTorch\n",
        "X = torch.randn(1, 1, 5, 5)  # Batch size 1, 1 channel, 5x5 input\n",
        "W = torch.randn(1, 1, 3, 3)  # 1 filter, 1 channel, 3x3 kernel\n",
        "stride = 1\n",
        "padding = 0\n",
        "\n",
        "print(\"X:\", X)\n",
        "print(\"W:\", W)\n",
        "\n",
        "# Tính convolution bằng hàm tự triển khai\n",
        "custom_result = custom_conv2d(X, W, stride, padding)\n",
        "\n",
        "# Tính convolution bằng hàm tích hợp trong PyTorch\n",
        "torch_result = F.conv2d(X, W, stride=stride, padding=padding)\n",
        "\n",
        "# Kiểm tra xem kết quả của cả hai phương pháp có gần giống nhau không\n",
        "print(\"Custom Convolution Result:\")\n",
        "print(custom_result)\n",
        "\n",
        "print(\"\\nPyTorch Convolution Result:\")\n",
        "print(torch_result)\n",
        "\n",
        "# Kiểm tra sự tương đồng giữa hai kết quả\n",
        "print(\"\\nCheck similarity:\")\n",
        "print(torch.allclose(custom_result, torch_result))"
      ]
    },
    {
      "cell_type": "markdown",
      "metadata": {
        "id": "M4PsR8D1E99W"
      },
      "source": [
        "# 3.\n",
        "Cho dataset CIFAR-10 Implement 1 model tương tự VGG16 (có thể nông hơn) với dữ liệu trên sử dụng Pytorch Chỉnh learning rate, vẽ đồ thị loss tương ứng. Chia tập train/test tỉ lệ 80/20, tính các chỉ số accuracy, recall, f1-score trên tập test."
      ]
    },
    {
      "cell_type": "code",
      "source": [
        "# Set up the configuration\n",
        "batch_size = 64\n",
        "learning_rate = 0.001\n",
        "num_epochs = 20"
      ],
      "metadata": {
        "id": "JxdeZMflGViv"
      },
      "execution_count": 33,
      "outputs": []
    },
    {
      "cell_type": "code",
      "source": [
        "# Prepare CIFAR-10 data\n",
        "transform = transforms.Compose([transforms.RandomHorizontalFlip(),\n",
        "                                transforms.RandomCrop(32, padding=4),\n",
        "                                transforms.ToTensor(),\n",
        "                                transforms.Normalize((0.5, 0.5, 0.5), (0.5, 0.5, 0.5))])\n",
        "\n",
        "train_dataset = torchvision.datasets.CIFAR10(root='./data', train=True, download=True, transform=transform)\n",
        "test_dataset = torchvision.datasets.CIFAR10(root='./data', train=False, download=True, transform=transform)\n",
        "\n",
        "# Split the train dataset into train and validation (80/20)\n",
        "train_indices, val_indices = train_test_split(list(range(len(train_dataset))), test_size=0.2, random_state=42)\n",
        "train_sampler = torch.utils.data.SubsetRandomSampler(train_indices)\n",
        "val_sampler = torch.utils.data.SubsetRandomSampler(val_indices)\n",
        "\n",
        "train_loader = DataLoader(train_dataset, batch_size=batch_size, sampler=train_sampler)\n",
        "val_loader = DataLoader(train_dataset, batch_size=batch_size, sampler=val_sampler)\n",
        "test_loader = DataLoader(test_dataset, batch_size=batch_size, shuffle=False)"
      ],
      "metadata": {
        "colab": {
          "base_uri": "https://localhost:8080/"
        },
        "id": "xX7NkeeiGXte",
        "outputId": "eb2db81c-02e0-47da-99b0-4938f30ad91e"
      },
      "execution_count": 34,
      "outputs": [
        {
          "output_type": "stream",
          "name": "stdout",
          "text": [
            "Files already downloaded and verified\n",
            "Files already downloaded and verified\n"
          ]
        }
      ]
    },
    {
      "cell_type": "code",
      "source": [
        "# Build a simpler CNN model than VGG16\n",
        "class SimpleVGG16(nn.Module):\n",
        "    def __init__(self):\n",
        "        super(SimpleVGG16, self).__init__()\n",
        "        self.conv1 = nn.Conv2d(3, 32, kernel_size=3, padding=1)\n",
        "        self.relu1 = nn.ReLU()\n",
        "        self.pool = nn.MaxPool2d(kernel_size=2, stride=2)\n",
        "        self.conv2 = nn.Conv2d(32, 64, kernel_size=3, padding=1)\n",
        "        self.relu2 = nn.ReLU()\n",
        "        self.fc1 = nn.Linear(64 * 8 * 8, 128)\n",
        "        self.relu3 = nn.ReLU()\n",
        "        self.fc2 = nn.Linear(128, 10)\n",
        "\n",
        "    def forward(self, x):\n",
        "        x = self.conv1(x)\n",
        "        x = self.relu1(x)\n",
        "        x = self.pool(x)\n",
        "        x = self.conv2(x)\n",
        "        x = self.relu2(x)\n",
        "        x = self.pool(x)\n",
        "        x = x.view(-1, 64 * 8 * 8)\n",
        "        x = self.fc1(x)\n",
        "        x = self.relu3(x)\n",
        "        x = self.fc2(x)\n",
        "        return x"
      ],
      "metadata": {
        "id": "u7CDRxp0FeFa"
      },
      "execution_count": 35,
      "outputs": []
    },
    {
      "cell_type": "code",
      "source": [
        "# Initialize the model and optimizer\n",
        "model = SimpleVGG16()\n",
        "criterion = nn.CrossEntropyLoss()\n",
        "optimizer = optim.Adam(model.parameters(), lr=learning_rate)\n",
        "\n",
        "# Training loop\n",
        "train_losses = []\n",
        "val_losses = []\n",
        "\n",
        "for epoch in range(num_epochs):\n",
        "    model.train()\n",
        "    running_loss = 0.0\n",
        "    for i, data in enumerate(train_loader, 0):\n",
        "        inputs, labels = data\n",
        "        optimizer.zero_grad()\n",
        "        outputs = model(inputs)\n",
        "        loss = criterion(outputs, labels)\n",
        "        loss.backward()\n",
        "        optimizer.step()\n",
        "        running_loss += loss.item()\n",
        "    train_loss = running_loss / len(train_loader)\n",
        "    train_losses.append(train_loss)\n",
        "    print(f'Epoch [{epoch + 1}/{num_epochs}] - Train Loss: {train_loss:.4f}')\n",
        "\n",
        "    # Validation\n",
        "    model.eval()\n",
        "    running_loss = 0.0\n",
        "    y_true_val = []\n",
        "    y_pred_val = []\n",
        "    with torch.no_grad():\n",
        "        for data in val_loader:\n",
        "            inputs, labels = data\n",
        "            outputs = model(inputs)\n",
        "            loss = criterion(outputs, labels)\n",
        "            running_loss += loss.item()\n",
        "            _, predicted = torch.max(outputs, 1)\n",
        "            y_true_val.extend(labels.cpu().numpy())\n",
        "            y_pred_val.extend(predicted.cpu().numpy())\n",
        "\n",
        "    val_loss = running_loss / len(val_loader)\n",
        "    val_losses.append(val_loss)\n",
        "    val_accuracy = accuracy_score(y_true_val, y_pred_val)\n",
        "    print(f'Epoch [{epoch + 1}/{num_epochs}] - Validation Loss: {val_loss:.4f} - Validation Accuracy: {val_accuracy:.4f}')\n"
      ],
      "metadata": {
        "colab": {
          "base_uri": "https://localhost:8080/"
        },
        "id": "lS0THcTQGg7C",
        "outputId": "f4b62802-a2d5-4ed9-8d60-79f5264b479a"
      },
      "execution_count": 36,
      "outputs": [
        {
          "output_type": "stream",
          "name": "stdout",
          "text": [
            "Epoch [1/20] - Train Loss: 1.5883\n",
            "Epoch [1/20] - Validation Loss: 1.3729 - Validation Accuracy: 0.5013\n",
            "Epoch [2/20] - Train Loss: 1.2699\n",
            "Epoch [2/20] - Validation Loss: 1.2136 - Validation Accuracy: 0.5709\n",
            "Epoch [3/20] - Train Loss: 1.1325\n",
            "Epoch [3/20] - Validation Loss: 1.0946 - Validation Accuracy: 0.6080\n",
            "Epoch [4/20] - Train Loss: 1.0513\n",
            "Epoch [4/20] - Validation Loss: 1.0527 - Validation Accuracy: 0.6229\n",
            "Epoch [5/20] - Train Loss: 0.9924\n",
            "Epoch [5/20] - Validation Loss: 0.9899 - Validation Accuracy: 0.6496\n",
            "Epoch [6/20] - Train Loss: 0.9442\n",
            "Epoch [6/20] - Validation Loss: 0.9484 - Validation Accuracy: 0.6624\n",
            "Epoch [7/20] - Train Loss: 0.9088\n",
            "Epoch [7/20] - Validation Loss: 0.9296 - Validation Accuracy: 0.6747\n",
            "Epoch [8/20] - Train Loss: 0.8755\n",
            "Epoch [8/20] - Validation Loss: 0.8890 - Validation Accuracy: 0.6875\n",
            "Epoch [9/20] - Train Loss: 0.8420\n",
            "Epoch [9/20] - Validation Loss: 0.8728 - Validation Accuracy: 0.6960\n",
            "Epoch [10/20] - Train Loss: 0.8326\n",
            "Epoch [10/20] - Validation Loss: 0.8429 - Validation Accuracy: 0.7030\n",
            "Epoch [11/20] - Train Loss: 0.8073\n",
            "Epoch [11/20] - Validation Loss: 0.8384 - Validation Accuracy: 0.7086\n",
            "Epoch [12/20] - Train Loss: 0.7854\n",
            "Epoch [12/20] - Validation Loss: 0.8260 - Validation Accuracy: 0.7113\n",
            "Epoch [13/20] - Train Loss: 0.7678\n",
            "Epoch [13/20] - Validation Loss: 0.8111 - Validation Accuracy: 0.7133\n",
            "Epoch [14/20] - Train Loss: 0.7580\n",
            "Epoch [14/20] - Validation Loss: 0.8052 - Validation Accuracy: 0.7150\n",
            "Epoch [15/20] - Train Loss: 0.7408\n",
            "Epoch [15/20] - Validation Loss: 0.7922 - Validation Accuracy: 0.7235\n",
            "Epoch [16/20] - Train Loss: 0.7283\n",
            "Epoch [16/20] - Validation Loss: 0.8184 - Validation Accuracy: 0.7137\n",
            "Epoch [17/20] - Train Loss: 0.7116\n",
            "Epoch [17/20] - Validation Loss: 0.7766 - Validation Accuracy: 0.7305\n",
            "Epoch [18/20] - Train Loss: 0.7094\n",
            "Epoch [18/20] - Validation Loss: 0.7904 - Validation Accuracy: 0.7275\n",
            "Epoch [19/20] - Train Loss: 0.7040\n",
            "Epoch [19/20] - Validation Loss: 0.7688 - Validation Accuracy: 0.7296\n",
            "Epoch [20/20] - Train Loss: 0.6948\n",
            "Epoch [20/20] - Validation Loss: 0.7609 - Validation Accuracy: 0.7380\n"
          ]
        }
      ]
    },
    {
      "cell_type": "code",
      "source": [
        "# Vẽ loss trên tập train và tập validation\n",
        "plt.figure(figsize=(10, 5))\n",
        "plt.plot(range(1, num_epochs + 1), train_losses, label='Training Loss', marker='o')\n",
        "plt.plot(range(1, num_epochs + 1), val_losses, label='Validation Loss', marker='o')\n",
        "plt.xlabel('Epochs')\n",
        "plt.ylabel('Loss')\n",
        "plt.title('Training and Validation Loss, with learning rate = {}'.format(learning_rate))\n",
        "plt.legend()\n",
        "plt.grid(True)\n",
        "plt.show()"
      ],
      "metadata": {
        "colab": {
          "base_uri": "https://localhost:8080/",
          "height": 487
        },
        "id": "uhteevgPGij2",
        "outputId": "0cf0756e-546a-484a-de0b-d2e4ef9a92de"
      },
      "execution_count": 38,
      "outputs": [
        {
          "output_type": "display_data",
          "data": {
            "text/plain": [
              "<Figure size 1000x500 with 1 Axes>"
            ],
            "image/png": "[encoded data removed]"
          },
          "metadata": {}
        }
      ]
    },
    {
      "cell_type": "code",
      "source": [
        "# Testing on the test set\n",
        "model.eval()\n",
        "y_true_test = []\n",
        "y_pred_test = []\n",
        "\n",
        "with torch.no_grad():\n",
        "    for data in test_loader:\n",
        "        inputs, labels = data\n",
        "        outputs = model(inputs)\n",
        "        _, predicted = torch.max(outputs, 1)\n",
        "        y_true_test.extend(labels.cpu().numpy())\n",
        "        y_pred_test.extend(predicted.cpu().numpy())\n",
        "\n",
        "test_accuracy = accuracy_score(y_true_test, y_pred_test)\n",
        "test_recall = recall_score(y_true_test, y_pred_test, average='macro')\n",
        "test_f1 = f1_score(y_true_test, y_pred_test, average='macro')\n",
        "\n",
        "print(f'Test Accuracy: {test_accuracy:.4f}')\n",
        "print(f'Test Recall: {test_recall:.4f}')\n",
        "print(f'Test F1 Score: {test_f1:.4f}')"
      ],
      "metadata": {
        "colab": {
          "base_uri": "https://localhost:8080/"
        },
        "id": "UayqLMoxGi7O",
        "outputId": "fbffc248-cac9-499d-d9aa-d4f1d925e4fd"
      },
      "execution_count": 39,
      "outputs": [
        {
          "output_type": "stream",
          "name": "stdout",
          "text": [
            "Test Accuracy: 0.7385\n",
            "Test Recall: 0.7385\n",
            "Test F1 Score: 0.7375\n"
          ]
        }
      ]
    },
    {
      "cell_type": "markdown",
      "source": [
        "# 4.\n",
        "Tại sao khi build model, càng những layer phía sau, width và height giảm nhưng depth lại tăng"
      ],
      "metadata": {
        "id": "yUWKhngn9ZMV"
      }
    },
    {
      "cell_type": "markdown",
      "source": [
        "**Convolution layer:**\n",
        "\n",
        "Input HxWxD ---------> K kernels FxFxD with stride=S, padding=P\n",
        " ------------> Output\n",
        "((H-F+2P)/S + 1) x ((H-F+2P)/S + 1) x K\n",
        "\n",
        "K thường lớn hơn D --> sẽ làm tăng depth\n",
        "\n",
        "nếu S > 1 --> width, height của output sẽ giảm\n",
        "\n",
        "\n",
        "\n",
        "\n",
        "---\n",
        "\n",
        "\n",
        "\n",
        "\n",
        "**Pooling layer:**\n",
        "Chỉ lấy những thông tin quan trọng, giảm kích thước (width, height) của output, thường là giảm đi 1 nửa; depth không đổi\n",
        "\n",
        "Ví dụ, input 4x4, đi qua pooling layer --> output 2x2\n",
        "\n",
        "**Model càng sâu nghĩa là sử dụng càng nhiều các layer. Nhìn chung mỗi lần đi qua 1 layer, width và height của input sẽ giảm đi và depth tăng lên**"
      ],
      "metadata": {
        "id": "lu_rbDQ8-RvT"
      }
    },
    {
      "cell_type": "markdown",
      "source": [
        "# 5.\n",
        "(Optional) 1 bài viết hay bao gồm tool sử dụng để vísualize CNN model"
      ],
      "metadata": {
        "id": "EBHPylQE-751"
      }
    },
    {
      "cell_type": "markdown",
      "source": [
        "- CNN Explainer: https://poloclub.github.io/cnn-explainer/\n",
        "- Awesome Machine Learning Demos: https://github.com/MilesCranmer/awesome-ml-demos\n",
        "\n",
        "Source: AI4E"
      ],
      "metadata": {
        "id": "Hr1S_lxy_OsV"
      }
    }
  ],
  "metadata": {
    "accelerator": "GPU",
    "colab": {
      "provenance": [],
      "gpuType": "T4"
    },
    "kernelspec": {
      "display_name": "Python 3",
      "name": "python3"
    },
    "language_info": {
      "name": "python"
    }
  },
  "nbformat": 4,
  "nbformat_minor": 0
}